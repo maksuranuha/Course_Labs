{
  "nbformat": 4,
  "nbformat_minor": 0,
  "metadata": {
    "colab": {
      "provenance": []
    },
    "kernelspec": {
      "name": "python3",
      "display_name": "Python 3"
    },
    "language_info": {
      "name": "python"
    }
  },
  "cells": [
    {
      "cell_type": "code",
      "execution_count": null,
      "metadata": {
        "colab": {
          "base_uri": "https://localhost:8080/"
        },
        "id": "2e8ycJ6jebmC",
        "outputId": "d51bb824-2bd9-4baa-86e6-99ff76ff6854"
      },
      "outputs": [
        {
          "output_type": "stream",
          "name": "stdout",
          "text": [
            "Collecting simpful\n",
            "  Downloading simpful-2.12.0-py3-none-any.whl.metadata (4.8 kB)\n",
            "Requirement already satisfied: numpy>=1.12.0 in /usr/local/lib/python3.10/dist-packages (from simpful) (1.26.4)\n",
            "Requirement already satisfied: scipy>=1.0.0 in /usr/local/lib/python3.10/dist-packages (from simpful) (1.13.1)\n",
            "Downloading simpful-2.12.0-py3-none-any.whl (24 kB)\n",
            "Installing collected packages: simpful\n",
            "Successfully installed simpful-2.12.0\n"
          ]
        }
      ],
      "source": [
        "pip install simpful"
      ]
    },
    {
      "cell_type": "code",
      "source": [
        "from simpful import *\n",
        "\n",
        "# A simple fuzzy inference system for the tipping problem\n",
        "# Create a fuzzy system object\n",
        "FS = FuzzySystem()\n",
        "\n",
        "# Define fuzzy sets and linguistic variables\n",
        "S_1 = FuzzySet(function=Trapezoidal_MF(a=0, b=0, c=30, d=50), term=\"freezing\")\n",
        "S_2 = FuzzySet(function=Triangular_MF(a=30, b=50, c=70), term=\"cool\")\n",
        "S_3 = FuzzySet(function=Triangular_MF(a=50, b=70, c=90), term=\"warm\")\n",
        "S_4 = FuzzySet(function=Trapezoidal_MF(a=70, b=90, c=110, d=110), term=\"hot\")\n",
        "FS.add_linguistic_variable(\"temp\", LinguisticVariable([S_1, S_2, S_3,S_4], concept=\"temp\", universe_of_discourse=[0,110]))\n",
        "\n",
        "F_1 = FuzzySet(function=Trapezoidal_MF(a=0, b=0, c=20, d=40), term=\"sunny\")\n",
        "F_2 = FuzzySet(function=Triangular_MF(a=20, b=50, c=80), term=\"cloudy\")\n",
        "F_3 = FuzzySet(function=Trapezoidal_MF(a=50, b=80, c=100, d=100), term=\"overcast\")\n",
        "FS.add_linguistic_variable(\"cover\", LinguisticVariable([F_1, F_2, F_3], concept=\"cover\", universe_of_discourse=[0,100]))\n",
        "\n",
        "# Define output fuzzy sets and linguistic variable\n",
        "T_1 = FuzzySet(function=Trapezoidal_MF(a=0, b=0, c=25, d=75), term=\"slow\")\n",
        "T_2 = FuzzySet(function=Trapezoidal_MF(a=25, b=75, c=100, d=100), term=\"fast\")\n",
        "FS.add_linguistic_variable(\"speed\", LinguisticVariable([T_1, T_2], universe_of_discourse=[0,100]))\n",
        "\n",
        "# Define fuzzy rules\n",
        "R1 = \"IF (cover IS sunny) OR (temp IS warm) THEN (speed IS fast)\"\n",
        "R2 = \"IF (cover IS cloudy) AND (temp IS cool) THEN (speed IS slow)\"\n",
        "FS.add_rules([R1, R2])\n",
        "\n",
        "# Set antecedents values\n",
        "FS.set_variable(\"temp\", 65)\n",
        "FS.set_variable(\"cover\", 25)\n",
        "\n",
        "# Perform Mamdani inference and print output\n",
        "print(FS.Mamdani_inference([\"speed\"]))"
      ],
      "metadata": {
        "colab": {
          "base_uri": "https://localhost:8080/"
        },
        "id": "ByhgdUWBe3De",
        "outputId": "bc0aea58-a6d1-4b4b-c7a5-2d18feb3fed0"
      },
      "execution_count": null,
      "outputs": [
        {
          "output_type": "stream",
          "name": "stdout",
          "text": [
            "  ____  __  _  _  ____  ____  _  _  __   \n",
            " / ___)(  )( \\/ )(  _ \\(  __)/ )( \\(  ) v2.12.0 \n",
            " \\___ \\ )( / \\/ \\ ) __/ ) _) ) \\/ (/ (_/\\ \n",
            " (____/(__)\\_)(_/(__)  (__)  \\____/\\____/\n",
            "\n",
            " https://github.com/aresio/simpful\n",
            "\n",
            "{'speed': 65.0481505013894}\n"
          ]
        }
      ]
    }
  ]
}
