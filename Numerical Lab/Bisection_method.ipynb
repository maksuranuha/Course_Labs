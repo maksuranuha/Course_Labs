{
  "nbformat": 4,
  "nbformat_minor": 0,
  "metadata": {
    "colab": {
      "provenance": []
    },
    "kernelspec": {
      "name": "python3",
      "display_name": "Python 3"
    },
    "language_info": {
      "name": "python"
    }
  },
  "cells": [
    {
      "cell_type": "code",
      "execution_count": null,
      "metadata": {
        "colab": {
          "base_uri": "https://localhost:8080/"
        },
        "id": "TEf7yjorMXuW",
        "outputId": "6ac6f817-d11c-4dee-d949-8c717b16e93f"
      },
      "outputs": [
        {
          "output_type": "stream",
          "name": "stdout",
          "text": [
            "First Guess: 1\n",
            "Second Guess: 2\n",
            "Tolerable Error: 0.015\n",
            "\n",
            "\n",
            "   BISECTION METHOD IMPLEMENTATION  \n",
            "Iteration-1, x2 = 1.500000 and f(x2) = 0.875000\n",
            "Iteration-2, x2 = 1.250000 and f(x2) = -0.296875\n",
            "Iteration-3, x2 = 1.375000 and f(x2) = 0.224609\n",
            "Iteration-4, x2 = 1.312500 and f(x2) = -0.051514\n",
            "Iteration-5, x2 = 1.343750 and f(x2) = 0.082611\n",
            "Iteration-6, x2 = 1.328125 and f(x2) = 0.014576\n",
            "\n",
            "Required Root is : 1.32812500\n"
          ]
        }
      ],
      "source": [
        "def f(x):\n",
        "    return x**3-x-1 #x^3 –x – 1\n",
        "def bisection(x0,x1,e):\n",
        "    step = 1\n",
        "    print('\\n\\n   BISECTION METHOD IMPLEMENTATION  ')\n",
        "    condition = True\n",
        "    while condition:\n",
        "        x2 = (x0 + x1)/2\n",
        "        print('Iteration-%d, x2 = %0.6f and f(x2) = %0.6f' % (step, x2, f(x2)))\n",
        "\n",
        "        if f(x0) * f(x2) < 0:\n",
        "            x1 = x2\n",
        "        else:\n",
        "            x0 = x2\n",
        "\n",
        "        step = step + 1\n",
        "        condition = abs(f(x2)) > e\n",
        "\n",
        "    print('\\nRequired Root is : %0.8f' % x2)\n",
        "\n",
        "x0 = float(input('First Guess: ')) #x=1\n",
        "x1 = float(input('Second Guess: ')) #x=2\n",
        "e = float(input('Tolerable Error: ')) #0.015\n",
        "\n",
        "\n",
        "# Checking Correctness of initial guess values and bisecting\n",
        "if f(x0) * f(x1) > 0.0:\n",
        "    print('Given guess values do not bracket the root.')\n",
        "    print('Try Again with different guess values.')\n",
        "else:\n",
        "    bisection(x0,x1,e)"
      ]
    }
  ]
}