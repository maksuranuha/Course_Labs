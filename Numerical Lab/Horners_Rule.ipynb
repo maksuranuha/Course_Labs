{
  "nbformat": 4,
  "nbformat_minor": 0,
  "metadata": {
    "colab": {
      "provenance": []
    },
    "kernelspec": {
      "name": "python3",
      "display_name": "Python 3"
    },
    "language_info": {
      "name": "python"
    }
  },
  "cells": [
    {
      "cell_type": "code",
      "execution_count": null,
      "metadata": {
        "colab": {
          "base_uri": "https://localhost:8080/"
        },
        "id": "dKJSOKlvPD6o",
        "outputId": "ddc77e27-9e26-47cf-e8e3-4dec61c8ba94"
      },
      "outputs": [
        {
          "output_type": "stream",
          "name": "stdout",
          "text": [
            "Enter the Degree of Polynomial: 3\n",
            "Enter the Polynomial Coefficients: (A[0] to A[n])\n",
            "A0: 6\n",
            "A1: 1\n",
            "A2: -4\n",
            "A3: 1\n",
            "Enter the value of X: 2\n",
            "P[3] = 1\n",
            "P[2] = -2\n",
            "P[1] = -3\n",
            "P[0] = 0\n",
            "Answer: 0\n"
          ]
        }
      ],
      "source": [
        "# f (x) = x3 – 4x2 + x + 6\tusing Horner’s rule at x = 2.\n",
        "# Here  n = 3,   a3 = 1,   a2 = - 4,   a1 = 1,  a0 = 6\n",
        "\n",
        "def evaluate_polynomial(n, coefficients, x):\n",
        "    P = [0] * (n + 1)\n",
        "    # initialize last poly\n",
        "    P[n] = coefficients[n]\n",
        "    print(f\"P[{n}] = {P[n]}\")\n",
        "\n",
        "\n",
        "    for i in range(n-1, -1, -1):\n",
        "        P[i] = P[i + 1] * x + coefficients[i] #p1  = p2 * x + a1\n",
        "        print(f\"P[{i}] = {P[i]}\")\n",
        "\n",
        "    return P[0]\n",
        "\n",
        "\n",
        "if __name__ == \"__main__\":\n",
        "\n",
        "    n = int(input(\"Enter the Degree of Polynomial: \"))\n",
        "    coefficients = [0] * (n + 1)\n",
        "\n",
        "    print(\"Enter the Polynomial Coefficients: (A[0] to A[n])\")\n",
        "    for i in range(n + 1):\n",
        "        coefficients[i] = int(input(f\"A{i}: \"))\n",
        "\n",
        "    x = int(input(\"Enter the value of X: \"))\n",
        "\n",
        "    result = evaluate_polynomial(n, coefficients, x)\n",
        "\n",
        "    print(\"Answer:\", result)"
      ]
    }
  ]
}