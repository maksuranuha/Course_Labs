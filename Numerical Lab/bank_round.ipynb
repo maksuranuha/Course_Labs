{
  "nbformat": 4,
  "nbformat_minor": 0,
  "metadata": {
    "colab": {
      "provenance": []
    },
    "kernelspec": {
      "name": "python3",
      "display_name": "Python 3"
    },
    "language_info": {
      "name": "python"
    }
  },
  "cells": [
    {
      "cell_type": "code",
      "execution_count": null,
      "metadata": {
        "colab": {
          "base_uri": "https://localhost:8080/"
        },
        "id": "n9PF-0SCZQ4-",
        "outputId": "70fbc7dc-a877-4832-aeea-e22e6526113f"
      },
      "outputs": [
        {
          "output_type": "stream",
          "name": "stdout",
          "text": [
            "Enter a number to round: 1.6583\n",
            "Original number: 1.6583, Rounded number: 1.658\n"
          ]
        }
      ],
      "source": [
        "#1.6583 →  1.658, signi(to 3) - 1 6 5 , om- 0, scale - 10^(4 - 1 - 0)\n",
        "import math\n",
        "\n",
        "def bankers_round(number, sig_digits):\n",
        "    if number == 0:\n",
        "        return 0\n",
        "\n",
        "    #most significant digit position\n",
        "    order_of_magnitude = math.floor(math.log10(abs(number)))\n",
        "\n",
        "    # Scale the number to shift the decimal point\n",
        "    scale = 10 ** (sig_digits - 1 - order_of_magnitude)\n",
        "    scaled_number = number * scale  #1.6583 -> 1658.3\n",
        "\n",
        "    integer_part = int(scaled_number)\n",
        "    fractional_part = scaled_number - integer_part\n",
        "\n",
        "    # digit right after the significant digits (n+1 th digit)\n",
        "    next_digit = int(fractional_part * 10)\n",
        "\n",
        "    if next_digit < 5:\n",
        "        pass\n",
        "    elif next_digit > 5:\n",
        "        integer_part += 1\n",
        "    else: # =5\n",
        "        if integer_part % 2 != 0:\n",
        "            integer_part += 1\n",
        "\n",
        "    # Scale back to original om\n",
        "    rounded_number = integer_part / scale #1658/1000 -> 1.658\n",
        "    return rounded_number\n",
        "\n",
        "try:\n",
        "    number = float(input(\"Enter a number to round: \"))\n",
        "    sig_digits = 4\n",
        "    rounded_number = bankers_round(number, sig_digits)\n",
        "    print(f\"Original number: {number}, Rounded number: {rounded_number:.{sig_digits}g}\")\n",
        "except ValueError:\n",
        "    print(\"Invalid input! Please enter a valid number.\")"
      ]
    }
  ]
}